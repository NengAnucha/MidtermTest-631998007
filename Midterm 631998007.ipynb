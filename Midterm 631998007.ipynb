{
 "cells": [
  {
   "cell_type": "markdown",
   "id": "c0f205d4",
   "metadata": {},
   "source": [
    "# 1.จงอธิบายพร้อมยกตัวอย่างการทำงานของอัลกอริทึม Merge Sort"
   ]
  },
  {
   "cell_type": "markdown",
   "id": "61fa01ec",
   "metadata": {},
   "source": [
    "การเรียงลำดับแบบผสาน ( Merge Sort) เป็นวิธีการเรียงลำดับที่นิยมใช้วิธีหนึ่ง และเหมาะกับข้อมูลขนาดใหญ่ โดยอาศัยเทคนิคในการพัฒนาอัลกอริทึมที่เรียกว่าวิธีการแบ่งแยกและเอาชนะ (Divide and Conquer) ดังนั้นขั้นตอนของอัลกอริทึมในการเรียงลำดับแบบผสานจึงแบ่งเป็น 2 ขั้นตอนหลัก คือ ขั้นตอนการแบ่งแยกข้อมูล และขั้นตอนการผสานเพื่อเรียงลำดับข้อมูล \n",
    "ในขั้นตอนแรกจะต้องแบ่งข้อมูลออกเป็นสองส่วนก่อน คือ ฝั่งซ้ายและขวา ซึ่งจะแบ่งไปเรื่อยๆ จนเหลือเพียงค่าเดียวในแต่ละฝั่ง จากนั้นจะนำข้อมูลทีละ 2 ค่า มาเรียงลำดับด้วยการผสานข้อมูลทั้งสองฝั่ง เรียกขั้นตอนนี้ว่า การผสาน (Merge) จากนั้นทำการผสาน อีกครั้งหนึ่งด้วยการนำ 2 ค่าที่เรียงแล้วไปผสานกับอีก 2 ค่าของอีกฝั่งหนึ่ง ก็จะได้ข้อมูลรวม 4 ค่าที่เรียงลำดับแล้ว จากนั้นนำ 4 ค่าที่เรียงลำดับไปกับรวมอีก 4 ค่าที่เรียงลำดับแล้ว ของอีกฝั่งหนึ่งก็จะได้ 8 ค่าที่เรียงลำดับ ทำเช่นนี้ไปเรื่อยๆ จนครบ n ค่า"
   ]
  },
  {
   "cell_type": "markdown",
   "id": "20bdc19a",
   "metadata": {},
   "source": [
    "# 2.เกม Door-Killer มีกติกาว่า ให้นักศึกษาต้องเลือกสิ่งของ 3 อย่าง ที่แตกต่างกันทั้งหมด n อย่าง ซึ่งเก็บอยู่ในอาร์เรย์โดยแต่ละชนิดมีน้ำหนัก wi (แต่ละชิ้นมีน้ำหนักไม่ซ้ำกัน) โดยที่ของทั้ง 3 อย่างที่เลือกต้องมีน้ำหนักรวมเท่ากับ x กิโลกรัม พอดีวางบนตารางชั่งจากนั้นประตูจะเปิดออกพร้อมรอดชีวิตกลับบ้าน หากน้ำหนักเกินแม้แต่ขีดเดียวประตูจะปิดตาย ไม่สามารถออกมาได้แต่เนื่องจากนักศึกษาสามารถเขียนโปรแกรมได้จึงได้เขียนโปรแกรมเพื่อแก้เกมนี้ขึ้นดังนั้น จงเขียนอัลกอริทึมสำหรับหาทางออกของเกมนี้"
   ]
  },
  {
   "cell_type": "code",
   "execution_count": 1,
   "id": "b0269e3d",
   "metadata": {},
   "outputs": [
    {
     "name": "stdout",
     "output_type": "stream",
     "text": [
      "เลือกสิ่งของมา 3 อย่าง : mouse\n",
      "เลือกสิ่งของมา 3 อย่าง : keyboard\n",
      "เลือกสิ่งของมา 3 อย่าง : notebook\n",
      "น้ำหนักรวม ['mouse', 'keyboard', 'notebook'] = 20.0\n",
      "Escaped\n"
     ]
    }
   ],
   "source": [
    "from typing import Counter\n",
    "\n",
    "array = [\n",
    "    {\"book\": 1.2},\n",
    "    {\"bag\": 6.0},\n",
    "    {\"smartphone\": 5.0},\n",
    "    {\"mouse\": 3.4},\n",
    "    {\"knife\": 4.5},\n",
    "    {\"notebook\": 11.0},\n",
    "    {\"keyboard\": 5.6},\n",
    "    {\"pen\": 0.5},\n",
    "    {\"eraser\": 0.4},\n",
    "    {\"pencil\": 0.3}\n",
    "    ]\n",
    "\n",
    "def select_item():\n",
    "    item = []\n",
    "    i = 0\n",
    "    while i < 3:\n",
    "        n = str(input(\"เลือกสิ่งของมา 3 อย่าง : \"))\n",
    "        if n not in item:\n",
    "            item.append(n)\n",
    "            i+=1\n",
    "        else:\n",
    "            print(\"กรุณาเลือกใหม่ !!!\")\n",
    "            \n",
    "    return calculate_weight(item)\n",
    "\n",
    "def calculate_weight(item):\n",
    "    ct = Counter()\n",
    "    x = 20\n",
    "    for a in item:\n",
    "        for b in array:\n",
    "            for c,d in b.items():\n",
    "                if c == a:\n",
    "                    ct[c] += d\n",
    "\n",
    "    i_weight = sum(ct.values())\n",
    "    print(\"น้ำหนักรวม\",item,\"=\",sum(ct.values()))\n",
    "    \n",
    "    if i_weight == x:\n",
    "        print(\"Escaped\")\n",
    "    else:\n",
    "        print(\"Eliminated\")\n",
    "        \n",
    "select_item()"
   ]
  },
  {
   "cell_type": "markdown",
   "id": "dbe6e7a7",
   "metadata": {},
   "source": [
    "# 3.ให้นักศึกษาสร้างต้นไม้ทวิภาค (Binary Tree) โดยในโปรแกรมประกอบดัวยฟังก์ชันต่อไปนี้"
   ]
  },
  {
   "cell_type": "markdown",
   "id": "7c70817b",
   "metadata": {},
   "source": [
    "# 3.1 การท่องต้นไม้แบบ Preorder , Inorder และ Postorder"
   ]
  },
  {
   "cell_type": "code",
   "execution_count": 7,
   "id": "e92df63f",
   "metadata": {
    "scrolled": true
   },
   "outputs": [
    {
     "name": "stdout",
     "output_type": "stream",
     "text": [
      "Binary tree : \n",
      "  ____7_____\n",
      " /          \\\n",
      "2           _12\n",
      " \\         /\n",
      "  3       10\n",
      "   \\     /\n",
      "    4   8\n",
      "\n"
     ]
    }
   ],
   "source": [
    "from binarytree import Node , bst\n",
    "\n",
    "root = bst(height = 3)\n",
    "\n",
    "print('Binary tree :', root)"
   ]
  },
  {
   "cell_type": "code",
   "execution_count": 8,
   "id": "94c2d608",
   "metadata": {},
   "outputs": [
    {
     "name": "stdout",
     "output_type": "stream",
     "text": [
      "Preoder of nodes :  [Node(7), Node(2), Node(3), Node(4), Node(12), Node(10), Node(8)]\n"
     ]
    }
   ],
   "source": [
    "print('Preoder of nodes : ', root.preorder)"
   ]
  },
  {
   "cell_type": "code",
   "execution_count": 9,
   "id": "e073a09d",
   "metadata": {},
   "outputs": [
    {
     "name": "stdout",
     "output_type": "stream",
     "text": [
      "Inorder of nodes : [Node(2), Node(3), Node(4), Node(7), Node(8), Node(10), Node(12)]\n"
     ]
    }
   ],
   "source": [
    "print('Inorder of nodes :', root.inorder)"
   ]
  },
  {
   "cell_type": "code",
   "execution_count": 10,
   "id": "f0f2f8a4",
   "metadata": {},
   "outputs": [
    {
     "name": "stdout",
     "output_type": "stream",
     "text": [
      "Postoder of nodes :  [Node(4), Node(3), Node(2), Node(8), Node(10), Node(12), Node(7)]\n"
     ]
    }
   ],
   "source": [
    "print('Postoder of nodes : ', root.postorder)"
   ]
  },
  {
   "cell_type": "markdown",
   "id": "3187d7f3",
   "metadata": {},
   "source": [
    "# 3.2 แสดงความสูงของต้นไม้และจำนวนของโหนดของต้นไม้"
   ]
  },
  {
   "cell_type": "code",
   "execution_count": 11,
   "id": "8ac6e46f",
   "metadata": {},
   "outputs": [
    {
     "name": "stdout",
     "output_type": "stream",
     "text": [
      "Node of tree : 7\n",
      "Height of tree : 3\n"
     ]
    }
   ],
   "source": [
    "print('Node of tree :', root.size)\n",
    "print('Height of tree :', root.height)"
   ]
  },
  {
   "cell_type": "markdown",
   "id": "169c0945",
   "metadata": {},
   "source": [
    "# 4. ผลต่าง ของผลรวมของต้นไม้ย่อยทางซ้ายและต้นไม้ย่อยทางขวา"
   ]
  },
  {
   "cell_type": "code",
   "execution_count": 15,
   "id": "65c858f6",
   "metadata": {
    "scrolled": false
   },
   "outputs": [
    {
     "name": "stdout",
     "output_type": "stream",
     "text": [
      "Perfect BST of given height : \n",
      " \n",
      "        __9______\n",
      "       /         \\\n",
      "    __7          _14\n",
      "   /   \\        /\n",
      "  3     8     _13\n",
      " / \\         /\n",
      "1   6       10\n",
      "\n"
     ]
    }
   ],
   "source": [
    "from binarytree import bst\n",
    "root = bst(height = 3)\n",
    "print('Perfect BST of given height : \\n',\n",
    "      root)"
   ]
  },
  {
   "cell_type": "code",
   "execution_count": 16,
   "id": "53a36c73",
   "metadata": {},
   "outputs": [
    {
     "name": "stdout",
     "output_type": "stream",
     "text": [
      "ผลรวมของต้นไม้ย่อยทางซ้าย : 25\n",
      "ผลรวมของต้นไม้ย่อยทางขวา : 37\n",
      "ผลต่างเท่ากับ :  12\n"
     ]
    }
   ],
   "source": [
    "def DifferentTree(root): \n",
    "    if root:\n",
    "        return DifferentTree(root.left) + int(root.value) + DifferentTree(root.right)\n",
    "    else:\n",
    "        return 0\n",
    "\n",
    "print(\"ผลรวมของต้นไม้ย่อยทางซ้าย :\" , DifferentTree(root.left))\n",
    "print(\"ผลรวมของต้นไม้ย่อยทางขวา :\" , DifferentTree(root.right))\n",
    "print(\"ผลต่างเท่ากับ : \" , DifferentTree(root.right) - DifferentTree(root.left))"
   ]
  },
  {
   "cell_type": "code",
   "execution_count": null,
   "id": "ecca7a0c",
   "metadata": {},
   "outputs": [],
   "source": []
  }
 ],
 "metadata": {
  "kernelspec": {
   "display_name": "Python 3 (ipykernel)",
   "language": "python",
   "name": "python3"
  },
  "language_info": {
   "codemirror_mode": {
    "name": "ipython",
    "version": 3
   },
   "file_extension": ".py",
   "mimetype": "text/x-python",
   "name": "python",
   "nbconvert_exporter": "python",
   "pygments_lexer": "ipython3",
   "version": "3.10.0"
  }
 },
 "nbformat": 4,
 "nbformat_minor": 5
}
